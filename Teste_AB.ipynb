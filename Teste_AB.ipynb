{
 "cells": [
  {
   "cell_type": "code",
   "execution_count": 36,
   "id": "80396c79",
   "metadata": {},
   "outputs": [],
   "source": [
    "import math\n",
    "import numpy as np\n",
    "from scipy import stats"
   ]
  },
  {
   "cell_type": "markdown",
   "id": "790dfd8b",
   "metadata": {},
   "source": [
    "## Lista de testes"
   ]
  },
  {
   "cell_type": "code",
   "execution_count": 37,
   "id": "9cb3a5fb",
   "metadata": {},
   "outputs": [],
   "source": [
    "teste_a = [\n",
    "    4.51, 3.31, 4.69, 5.3, 2.87, 60.0, 6.05, 5.18, 3.9, 3.08, 13.0, 5.8,\n",
    "    7.77, 2.42, 13.72, 3.59, 8.76, 13.33, 12.02, 14.28, 2.32, 1.85, 2.3,\n",
    "    3.75, 5.47, 7.49, 3.15, 5.55, 3.77, 3.43\n",
    "]\n",
    "\n",
    "teste_b = [\n",
    "    6.14, 27.65, 11.19, 14.21, 15.38, 18.57, 16.62, 20.62, 14.13, 12.91,\n",
    "    12.31, 38.86, 4.17, 14.63, 8.0, 12.23, 12.37, 8.04, 9.31, 11.71, 8.06,\n",
    "    21.21, 10.15, 11.93, 13.52, 13.42, 4.57, 17.08, 15.43, 9.14\n",
    "    ]"
   ]
  },
  {
   "cell_type": "code",
   "execution_count": 38,
   "id": "17f6f177",
   "metadata": {},
   "outputs": [],
   "source": [
    "# numero de elementos\n",
    "n_a = teste_a.__len__()\n",
    "# media de A\n",
    "c = 0\n",
    "for i in teste_a:\n",
    "    c += i\n",
    "media_a = c/n_a\n",
    "\n",
    "# numero de elementos\n",
    "n_b = teste_b.__len__()\n",
    "# media de B\n",
    "c = 0\n",
    "for i in teste_b:\n",
    "    c += i\n",
    "media_b = c/n_b"
   ]
  },
  {
   "cell_type": "code",
   "execution_count": 39,
   "id": "36ff99f8",
   "metadata": {},
   "outputs": [
    {
     "name": "stdout",
     "output_type": "stream",
     "text": [
      "\n",
      "Tamanho A: 30\n",
      "Tamanho B: 30\n",
      "\n",
      "Médias:      \n",
      "Média A: 7.755333333333335\n",
      "Média B: 13.78533333333333\n",
      "\n"
     ]
    }
   ],
   "source": [
    "print(\"\"\"\n",
    "Tamanho A: {n_a}\n",
    "Tamanho B: {n_b}\n",
    "\n",
    "Médias:      \n",
    "Média A: {media_a}\n",
    "Média B: {media_b}\n",
    "\"\"\".format(n_a=n_a, n_b=n_b, media_a=media_a, media_b=media_b))\n"
   ]
  },
  {
   "cell_type": "markdown",
   "id": "2b7355c5",
   "metadata": {},
   "source": [
    "#### devios A e B\n"
   ]
  },
  {
   "cell_type": "code",
   "execution_count": 40,
   "id": "8c10f27f",
   "metadata": {},
   "outputs": [
    {
     "name": "stdout",
     "output_type": "stream",
     "text": [
      "Desvio padrão A: 10.37\n",
      "Desvio padrão B: 6.79\n"
     ]
    }
   ],
   "source": [
    "# desvio Ad\n",
    "c = 0\n",
    "for i in teste_a:\n",
    "    c += (i - media_a)**2\n",
    "\n",
    "desvio_a = math.sqrt(c/n_a)\n",
    "\n",
    "print(\"Desvio padrão A: {:.2f}\".format(desvio_a))\n",
    "\n",
    "\n",
    "# desvio B\n",
    "c = 0\n",
    "for i in teste_b:\n",
    "    c += (i - media_b)**2\n",
    "\n",
    "desvio_b = math.sqrt(c/n_b)\n",
    "\n",
    "print(\"Desvio padrão B: {:.2f}\".format(desvio_b))"
   ]
  },
  {
   "cell_type": "markdown",
   "id": "1409cd8a",
   "metadata": {},
   "source": [
    "### Em questão de tempo, o melhor teste seria o mais rápido"
   ]
  },
  {
   "cell_type": "code",
   "execution_count": 41,
   "id": "72c77b87",
   "metadata": {},
   "outputs": [],
   "source": [
    "a = np.array(teste_a)\n",
    "b = np.array(teste_b)\n",
    "\n",
    "\n",
    "t_stat, p_valor_bilateral = stats.ttest_ind(a, b, equal_var=False)\n",
    "p_valor_unilateral = p_valor_bilateral / 2 if t_stat > 0 else 1 - (p_valor_bilateral / 2)\n",
    "\n",
    "significancia = 0.05\n",
    "rejeita = p_valor_unilateral < significancia"
   ]
  },
  {
   "cell_type": "code",
   "execution_count": 42,
   "id": "0ca23b7d",
   "metadata": {},
   "outputs": [
    {
     "name": "stdout",
     "output_type": "stream",
     "text": [
      "\n",
      "===== TESTE A/B - COMPARAÇÃO DE MÉDIAS =====\n",
      "\n",
      "Hipóteses:\n",
      "  H0: μA <= μB\n",
      "  H1: μA  >  μB\n",
      "\n",
      "Tamanho A: 30\n",
      "Tamanho B: 30\n",
      "\n",
      "MÉDIAS:\n",
      "  Média A = 7.76s\n",
      "  Média B = 13.79s\n",
      "\n",
      "DESVIOS PADRÃO:\n",
      "  Desvio A = 10.37\n",
      "  Desvio B = 6.79\n",
      "\n",
      "ESTATÍSTICA:\n",
      "  t = -2.6196\n",
      "  p-valor (unilateral) = 0.994187\n",
      "  α = 0.05\n",
      "\n",
      "Conclusão:\n",
      "   Não rejeita H0 — não há evidência de que A > B\n",
      "\n"
     ]
    }
   ],
   "source": [
    "print(f\"\"\"\n",
    "===== TESTE A/B - COMPARAÇÃO DE MÉDIAS =====\n",
    "\n",
    "Hipóteses:\n",
    "  H0: μA <= μB\n",
    "  H1: μA  >  μB\n",
    "\n",
    "Tamanho A: {n_a}\n",
    "Tamanho B: {n_b}\n",
    "\n",
    "MÉDIAS:\n",
    "  Média A = {media_a:.2f}s\n",
    "  Média B = {media_b:.2f}s\n",
    "\n",
    "DESVIOS PADRÃO:\n",
    "  Desvio A = {desvio_a:.2f}\n",
    "  Desvio B = {desvio_b:.2f}\n",
    "\n",
    "ESTATÍSTICA:\n",
    "  t = {t_stat:.4f}\n",
    "  p-valor (unilateral) = {p_valor_unilateral:.6f}\n",
    "  α = {significancia:.2f}\n",
    "\n",
    "Conclusão:\n",
    "  {\" Rejeita H0 — A é estatisticamente MAIOR que B\" if rejeita else \" Não rejeita H0 — não há evidência de que A > B\"}\n",
    "\"\"\")"
   ]
  }
 ],
 "metadata": {
  "kernelspec": {
   "display_name": "Python 3",
   "language": "python",
   "name": "python3"
  },
  "language_info": {
   "codemirror_mode": {
    "name": "ipython",
    "version": 3
   },
   "file_extension": ".py",
   "mimetype": "text/x-python",
   "name": "python",
   "nbconvert_exporter": "python",
   "pygments_lexer": "ipython3",
   "version": "3.12.10"
  }
 },
 "nbformat": 4,
 "nbformat_minor": 5
}
