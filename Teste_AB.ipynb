{
 "cells": [
  {
   "cell_type": "markdown",
   "id": "ef3db6b8",
   "metadata": {},
   "source": [
    "# Relatório de Teste A/B – Avaliação de Novo Fluxo de Interface\n"
   ]
  },
  {
   "cell_type": "markdown",
   "id": "9d78bd08",
   "metadata": {},
   "source": [
    "<h3>1. Objetivo do Teste</h3>\n",
    "<br>\n",
    "O objetivo deste teste A/B foi avaliar se a introdução de novos fluxos na interface do mobile\n",
    "— especificamente na tarefa de mudança de foto de perfil e relatórios — traria uma melhoria de\n",
    "desempenho medida em tempo médio de conclusão da tarefa (em segundos). O Teste A\n",
    "representa o fluxo original, enquanto o Teste B representa a nova versão, que inclui um\n",
    "passo adicional para aprimorar a experiência e a clareza do processo."
   ]
  },
  {
   "cell_type": "markdown",
   "id": "2b1a75cc",
   "metadata": {},
   "source": [
    "<h3>2. Detalhamento da Coleta de Dados</h3>\n",
    "<br>\n",
    "A coleta de dados foi realizada por meio da plataforma Maze, ferramenta de testes de\n",
    "usabilidade amplamente utilizada. Durante os experimentos, 30 usuários participaram de\n",
    "cada versão (A e B), totalizando 60 observações para cada fluxo. Cada participante executou a mesma\n",
    "tarefa em condições controladas, e o tempo de execução (em segundos) foi registrado\n",
    "automaticamente pelo Maze. O teste foi conduzido no mesmo contexto de uso, garantindo\n",
    "que as diferenças de tempo refletissem apenas variações no fluxo e não em fatores\n",
    "externos.\n"
   ]
  },
  {
   "cell_type": "code",
   "execution_count": 43,
   "id": "80396c79",
   "metadata": {},
   "outputs": [],
   "source": [
    "import math\n",
    "import numpy as np\n",
    "from scipy import stats"
   ]
  },
  {
   "cell_type": "markdown",
   "id": "04959dbc",
   "metadata": {},
   "source": [
    "## Primeiro Fluxo | Mudar foto perfil:\n"
   ]
  },
  {
   "cell_type": "code",
   "execution_count": 44,
   "id": "9cb3a5fb",
   "metadata": {},
   "outputs": [],
   "source": [
    "# TESTE A  Mudar foto perfil:\n",
    "teste_a = [\n",
    "    4.51, 3.31, 4.69, 5.3, 2.87, 60.0, 6.05, 5.18, 3.9, 3.08, 13.0, 5.8,\n",
    "    7.77, 2.42, 13.72, 3.59, 8.76, 13.33, 12.02, 14.28, 2.32, 1.85, 2.3,\n",
    "    3.75, 5.47, 7.49, 3.15, 5.55, 3.77, 3.43\n",
    "]\n",
    "\n",
    "# TESTE B  Mudar foto perfil:\n",
    "teste_b = [\n",
    "    6.14, 27.65, 11.19, 14.21, 15.38, 18.57, 16.62, 20.62, 14.13, 12.91,\n",
    "    12.31, 38.86, 4.17, 14.63, 8.0, 12.23, 12.37, 8.04, 9.31, 11.71, 8.06,\n",
    "    21.21, 10.15, 11.93, 13.52, 13.42, 4.57, 17.08, 15.43, 9.14\n",
    "    ]"
   ]
  },
  {
   "cell_type": "code",
   "execution_count": 45,
   "id": "17f6f177",
   "metadata": {},
   "outputs": [],
   "source": [
    "# numero de elementos\n",
    "n_a = teste_a.__len__()\n",
    "# media de A\n",
    "c = 0\n",
    "for i in teste_a:\n",
    "    c += i\n",
    "media_a = c/n_a\n",
    "\n",
    "# numero de elementos\n",
    "n_b = teste_b.__len__()\n",
    "# media de B\n",
    "c = 0\n",
    "for i in teste_b:\n",
    "    c += i\n",
    "media_b = c/n_b"
   ]
  },
  {
   "cell_type": "code",
   "execution_count": 46,
   "id": "36ff99f8",
   "metadata": {},
   "outputs": [
    {
     "name": "stdout",
     "output_type": "stream",
     "text": [
      "\n",
      "Tamanho A: 30\n",
      "Tamanho B: 30\n",
      "\n",
      "Médias:      \n",
      "Média A: 7.755333333333335\n",
      "Média B: 13.78533333333333\n",
      "\n"
     ]
    }
   ],
   "source": [
    "print(\"\"\"\n",
    "Tamanho A: {n_a}\n",
    "Tamanho B: {n_b}\n",
    "\n",
    "Médias:      \n",
    "Média A: {media_a}\n",
    "Média B: {media_b}\n",
    "\"\"\".format(n_a=n_a, n_b=n_b, media_a=media_a, media_b=media_b))\n"
   ]
  },
  {
   "cell_type": "markdown",
   "id": "2b7355c5",
   "metadata": {},
   "source": [
    "#### devios A e B\n"
   ]
  },
  {
   "cell_type": "code",
   "execution_count": 47,
   "id": "8c10f27f",
   "metadata": {},
   "outputs": [
    {
     "name": "stdout",
     "output_type": "stream",
     "text": [
      "Desvio padrão A: 10.37\n",
      "Desvio padrão B: 6.79\n"
     ]
    }
   ],
   "source": [
    "# desvio Ad\n",
    "c = 0\n",
    "for i in teste_a:\n",
    "    c += (i - media_a)**2\n",
    "\n",
    "desvio_a = math.sqrt(c/n_a)\n",
    "\n",
    "print(\"Desvio padrão A: {:.2f}\".format(desvio_a))\n",
    "\n",
    "\n",
    "# desvio B\n",
    "c = 0\n",
    "for i in teste_b:\n",
    "    c += (i - media_b)**2\n",
    "\n",
    "desvio_b = math.sqrt(c/n_b)\n",
    "\n",
    "print(\"Desvio padrão B: {:.2f}\".format(desvio_b))"
   ]
  },
  {
   "cell_type": "markdown",
   "id": "1409cd8a",
   "metadata": {},
   "source": [
    "### Em questão de tempo, o melhor teste seria o mais rápido"
   ]
  },
  {
   "cell_type": "code",
   "execution_count": 48,
   "id": "72c77b87",
   "metadata": {},
   "outputs": [],
   "source": [
    "a = np.array(teste_a)\n",
    "b = np.array(teste_b)\n",
    "\n",
    "\n",
    "t_stat, p_valor_bilateral = stats.ttest_ind(a, b, equal_var=False)\n",
    "p_valor_unilateral = p_valor_bilateral / 2 if t_stat > 0 else 1 - (p_valor_bilateral / 2)\n",
    "\n",
    "significancia = 0.05\n",
    "rejeita = p_valor_unilateral < significancia"
   ]
  },
  {
   "cell_type": "code",
   "execution_count": 49,
   "id": "0ca23b7d",
   "metadata": {},
   "outputs": [
    {
     "name": "stdout",
     "output_type": "stream",
     "text": [
      "\n",
      "===== TESTE A/B # Mudar foto perfil - COMPARAÇÃO DE MÉDIAS =====\n",
      "\n",
      "Hipóteses:\n",
      "  H0: μA <= μB\n",
      "  H1: μA  >  μB\n",
      "\n",
      "Tamanho A: 30\n",
      "Tamanho B: 30\n",
      "\n",
      "MÉDIAS:\n",
      "  Média A = 7.76s\n",
      "  Média B = 13.79s\n",
      "\n",
      "DESVIOS PADRÃO:\n",
      "  Desvio A = 10.37\n",
      "  Desvio B = 6.79\n",
      "\n",
      "ESTATÍSTICA:\n",
      "  t = -2.6196\n",
      "  p-valor (unilateral) = 0.994187\n",
      "  α = 0.05\n",
      "\n",
      "Conclusão:\n",
      "   Não rejeita H0 — não há evidência de que A > B\n",
      "\n"
     ]
    }
   ],
   "source": [
    "print(f\"\"\"\n",
    "===== TESTE A/B # Mudar foto perfil - COMPARAÇÃO DE MÉDIAS =====\n",
    "\n",
    "Hipóteses:\n",
    "  H0: μA <= μB\n",
    "  H1: μA  >  μB\n",
    "\n",
    "Tamanho A: {n_a}\n",
    "Tamanho B: {n_b}\n",
    "\n",
    "MÉDIAS:\n",
    "  Média A = {media_a:.2f}s\n",
    "  Média B = {media_b:.2f}s\n",
    "\n",
    "DESVIOS PADRÃO:\n",
    "  Desvio A = {desvio_a:.2f}\n",
    "  Desvio B = {desvio_b:.2f}\n",
    "\n",
    "ESTATÍSTICA:\n",
    "  t = {t_stat:.4f}\n",
    "  p-valor (unilateral) = {p_valor_unilateral:.6f}\n",
    "  α = {significancia:.2f}\n",
    "\n",
    "Conclusão:\n",
    "  {\" Rejeita H0 — A é estatisticamente MAIOR que B\" if rejeita else \" Não rejeita H0 — não há evidência de que A > B\"}\n",
    "\"\"\")"
   ]
  },
  {
   "cell_type": "markdown",
   "id": "6bf46c03",
   "metadata": {},
   "source": [
    "## Segundo Fluxo |  Relatório:\n"
   ]
  },
  {
   "cell_type": "code",
   "execution_count": 50,
   "id": "d9513c0b",
   "metadata": {},
   "outputs": [],
   "source": [
    "# TESTE A  Relatório:\n",
    "teste_a = [\n",
    "    7.72, 17.82, 14.26, 25.5, 9.14, 5.22, 19.03, 15.03, 9.46, 5.69,\n",
    "    15.1, 14.0, 16.65, 67.86, 11.73, 8.51, 12.02, 15.38, 8.71, 50.69,\n",
    "    2.95, 3.81, 4.88, 24.58, 8.2, 59.13, 7.54, 6.0, 8.37, 9.18\n",
    "]\n",
    "\n",
    "# TESTE B Relatório:\n",
    "teste_b = [\n",
    "    5.21, 5.04, 11.73, 14.8, 11.98, 11.58, 7.05, 44.16, 45.31, 10.19,\n",
    "    15.2, 17.43, 23.74, 36.43, 13.0, 16.18, 15.02, 16.2, 21.72, 11.73,\n",
    "    19.35, 9.76, 9.26, 32.26, 10.67, 8.48, 12.69, 10.07, 8.48, 12.69,\n",
    "    10.07, 14.51, 15.27, 18.74, 19.5, 10.57\n",
    "]\n"
   ]
  },
  {
   "cell_type": "code",
   "execution_count": 51,
   "id": "d63a28f8",
   "metadata": {},
   "outputs": [],
   "source": [
    "# numero de elementos\n",
    "n_a = teste_a.__len__()\n",
    "# media de A\n",
    "c = 0\n",
    "for i in teste_a:\n",
    "    c += i\n",
    "media_a = c/n_a\n",
    "\n",
    "# numero de elementos\n",
    "n_b = teste_b.__len__()\n",
    "# media de B\n",
    "c = 0\n",
    "for i in teste_b:\n",
    "    c += i\n",
    "media_b = c/n_b"
   ]
  },
  {
   "cell_type": "code",
   "execution_count": 52,
   "id": "15ce998d",
   "metadata": {},
   "outputs": [
    {
     "name": "stdout",
     "output_type": "stream",
     "text": [
      "\n",
      "Tamanho A: 30\n",
      "Tamanho B: 36\n",
      "\n",
      "Médias:      \n",
      "Média A: 16.138666666666666\n",
      "Média B: 16.001944444444447\n",
      "\n"
     ]
    }
   ],
   "source": [
    "print(\"\"\"\n",
    "Tamanho A: {n_a}\n",
    "Tamanho B: {n_b}\n",
    "\n",
    "Médias:      \n",
    "Média A: {media_a}\n",
    "Média B: {media_b}\n",
    "\"\"\".format(n_a=n_a, n_b=n_b, media_a=media_a, media_b=media_b))\n"
   ]
  },
  {
   "cell_type": "markdown",
   "id": "9fcf0aed",
   "metadata": {},
   "source": [
    "#### devios A e B\n"
   ]
  },
  {
   "cell_type": "code",
   "execution_count": 53,
   "id": "e694c175",
   "metadata": {},
   "outputs": [
    {
     "name": "stdout",
     "output_type": "stream",
     "text": [
      "Desvio padrão A: 15.54\n",
      "Desvio padrão B: 9.49\n"
     ]
    }
   ],
   "source": [
    "# desvio Ad\n",
    "c = 0\n",
    "for i in teste_a:\n",
    "    c += (i - media_a)**2\n",
    "\n",
    "desvio_a = math.sqrt(c/n_a)\n",
    "\n",
    "print(\"Desvio padrão A: {:.2f}\".format(desvio_a))\n",
    "\n",
    "\n",
    "# desvio B\n",
    "c = 0\n",
    "for i in teste_b:\n",
    "    c += (i - media_b)**2\n",
    "\n",
    "desvio_b = math.sqrt(c/n_b)\n",
    "\n",
    "print(\"Desvio padrão B: {:.2f}\".format(desvio_b))"
   ]
  },
  {
   "cell_type": "markdown",
   "id": "5fd0a9bd",
   "metadata": {},
   "source": [
    "### Em questão de tempo, o melhor teste seria o mais rápido"
   ]
  },
  {
   "cell_type": "code",
   "execution_count": 54,
   "id": "0da294ad",
   "metadata": {},
   "outputs": [],
   "source": [
    "a = np.array(teste_a)\n",
    "b = np.array(teste_b)\n",
    "\n",
    "\n",
    "t_stat, p_valor_bilateral = stats.ttest_ind(a, b, equal_var=False)\n",
    "p_valor_unilateral = p_valor_bilateral / 2 if t_stat > 0 else 1 - (p_valor_bilateral / 2)\n",
    "\n",
    "significancia = 0.05\n",
    "rejeita = p_valor_unilateral < significancia"
   ]
  },
  {
   "cell_type": "code",
   "execution_count": 55,
   "id": "6a02a1e0",
   "metadata": {},
   "outputs": [
    {
     "name": "stdout",
     "output_type": "stream",
     "text": [
      "\n",
      "===== TESTE A/B # Mudar foto perfil - COMPARAÇÃO DE MÉDIAS =====\n",
      "\n",
      "Hipóteses:\n",
      "  H0: μA <= μB\n",
      "  H1: μA  >  μB\n",
      "\n",
      "Tamanho A: 30\n",
      "Tamanho B: 36\n",
      "\n",
      "MÉDIAS:\n",
      "  Média A = 16.14s\n",
      "  Média B = 16.00s\n",
      "\n",
      "DESVIOS PADRÃO:\n",
      "  Desvio A = 15.54\n",
      "  Desvio B = 9.49\n",
      "\n",
      "ESTATÍSTICA:\n",
      "  t = 0.0414\n",
      "  p-valor (unilateral) = 0.483573\n",
      "  α = 0.05\n",
      "\n",
      "Conclusão:\n",
      "   Não rejeita H0 — não há evidência de que A > B\n",
      "\n"
     ]
    }
   ],
   "source": [
    "print(f\"\"\"\n",
    "===== TESTE A/B # Mudar foto perfil - COMPARAÇÃO DE MÉDIAS =====\n",
    "\n",
    "Hipóteses:\n",
    "  H0: μA <= μB\n",
    "  H1: μA  >  μB\n",
    "\n",
    "Tamanho A: {n_a}\n",
    "Tamanho B: {n_b}\n",
    "\n",
    "MÉDIAS:\n",
    "  Média A = {media_a:.2f}s\n",
    "  Média B = {media_b:.2f}s\n",
    "\n",
    "DESVIOS PADRÃO:\n",
    "  Desvio A = {desvio_a:.2f}\n",
    "  Desvio B = {desvio_b:.2f}\n",
    "\n",
    "ESTATÍSTICA:\n",
    "  t = {t_stat:.4f}\n",
    "  p-valor (unilateral) = {p_valor_unilateral:.6f}\n",
    "  α = {significancia:.2f}\n",
    "\n",
    "Conclusão:\n",
    "  {\" Rejeita H0 — A é estatisticamente MAIOR que B\" if rejeita else \" Não rejeita H0 — não há evidência de que A > B\"}\n",
    "\"\"\")"
   ]
  }
 ],
 "metadata": {
  "kernelspec": {
   "display_name": "Python 3",
   "language": "python",
   "name": "python3"
  },
  "language_info": {
   "codemirror_mode": {
    "name": "ipython",
    "version": 3
   },
   "file_extension": ".py",
   "mimetype": "text/x-python",
   "name": "python",
   "nbconvert_exporter": "python",
   "pygments_lexer": "ipython3",
   "version": "3.12.10"
  }
 },
 "nbformat": 4,
 "nbformat_minor": 5
}
